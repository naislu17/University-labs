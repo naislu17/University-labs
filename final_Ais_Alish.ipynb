{
 "cells": [
  {
   "cell_type": "markdown",
   "metadata": {},
   "source": [
    "# a) Importing the libraries"
   ]
  },
  {
   "cell_type": "code",
   "execution_count": 33,
   "metadata": {},
   "outputs": [],
   "source": [
    "import numpy as np   # importing libraries\n",
    "import matplotlib.pyplot as plt\n",
    "import pandas as pd"
   ]
  },
  {
   "cell_type": "markdown",
   "metadata": {},
   "source": [
    "# b) Importing the dataset"
   ]
  },
  {
   "cell_type": "code",
   "execution_count": 34,
   "metadata": {},
   "outputs": [
    {
     "data": {
      "text/html": [
       "<div>\n",
       "<style scoped>\n",
       "    .dataframe tbody tr th:only-of-type {\n",
       "        vertical-align: middle;\n",
       "    }\n",
       "\n",
       "    .dataframe tbody tr th {\n",
       "        vertical-align: top;\n",
       "    }\n",
       "\n",
       "    .dataframe thead th {\n",
       "        text-align: right;\n",
       "    }\n",
       "</style>\n",
       "<table border=\"1\" class=\"dataframe\">\n",
       "  <thead>\n",
       "    <tr style=\"text-align: right;\">\n",
       "      <th></th>\n",
       "      <th>Record ID</th>\n",
       "      <th>Agency Code</th>\n",
       "      <th>Agency Name</th>\n",
       "      <th>Agency Type</th>\n",
       "      <th>City</th>\n",
       "      <th>State</th>\n",
       "      <th>Year</th>\n",
       "      <th>Month</th>\n",
       "      <th>Incident</th>\n",
       "      <th>Crime Type</th>\n",
       "      <th>...</th>\n",
       "      <th>Victim Ethnicity</th>\n",
       "      <th>Perpetrator Sex</th>\n",
       "      <th>Perpetrator Age</th>\n",
       "      <th>Perpetrator Race</th>\n",
       "      <th>Perpetrator Ethnicity</th>\n",
       "      <th>Relationship</th>\n",
       "      <th>Weapon</th>\n",
       "      <th>Victim Count</th>\n",
       "      <th>Perpetrator Count</th>\n",
       "      <th>Record Source</th>\n",
       "    </tr>\n",
       "  </thead>\n",
       "  <tbody>\n",
       "    <tr>\n",
       "      <th>0</th>\n",
       "      <td>1</td>\n",
       "      <td>AK00101</td>\n",
       "      <td>Anchorage</td>\n",
       "      <td>Municipal Police</td>\n",
       "      <td>Anchorage</td>\n",
       "      <td>Alaska</td>\n",
       "      <td>1980</td>\n",
       "      <td>January</td>\n",
       "      <td>1</td>\n",
       "      <td>Murder or Manslaughter</td>\n",
       "      <td>...</td>\n",
       "      <td>Unknown</td>\n",
       "      <td>Male</td>\n",
       "      <td>15</td>\n",
       "      <td>Native American/Alaska Native</td>\n",
       "      <td>Unknown</td>\n",
       "      <td>Acquaintance</td>\n",
       "      <td>Blunt Object</td>\n",
       "      <td>0</td>\n",
       "      <td>0</td>\n",
       "      <td>FBI</td>\n",
       "    </tr>\n",
       "    <tr>\n",
       "      <th>1</th>\n",
       "      <td>2</td>\n",
       "      <td>AK00101</td>\n",
       "      <td>Anchorage</td>\n",
       "      <td>Municipal Police</td>\n",
       "      <td>Anchorage</td>\n",
       "      <td>Alaska</td>\n",
       "      <td>1980</td>\n",
       "      <td>March</td>\n",
       "      <td>1</td>\n",
       "      <td>Murder or Manslaughter</td>\n",
       "      <td>...</td>\n",
       "      <td>Unknown</td>\n",
       "      <td>Male</td>\n",
       "      <td>42</td>\n",
       "      <td>White</td>\n",
       "      <td>Unknown</td>\n",
       "      <td>Acquaintance</td>\n",
       "      <td>Strangulation</td>\n",
       "      <td>0</td>\n",
       "      <td>0</td>\n",
       "      <td>FBI</td>\n",
       "    </tr>\n",
       "    <tr>\n",
       "      <th>2</th>\n",
       "      <td>3</td>\n",
       "      <td>AK00101</td>\n",
       "      <td>Anchorage</td>\n",
       "      <td>Municipal Police</td>\n",
       "      <td>Anchorage</td>\n",
       "      <td>Alaska</td>\n",
       "      <td>1980</td>\n",
       "      <td>March</td>\n",
       "      <td>2</td>\n",
       "      <td>Murder or Manslaughter</td>\n",
       "      <td>...</td>\n",
       "      <td>Unknown</td>\n",
       "      <td>Unknown</td>\n",
       "      <td>0</td>\n",
       "      <td>Unknown</td>\n",
       "      <td>Unknown</td>\n",
       "      <td>Unknown</td>\n",
       "      <td>Unknown</td>\n",
       "      <td>0</td>\n",
       "      <td>0</td>\n",
       "      <td>FBI</td>\n",
       "    </tr>\n",
       "    <tr>\n",
       "      <th>3</th>\n",
       "      <td>4</td>\n",
       "      <td>AK00101</td>\n",
       "      <td>Anchorage</td>\n",
       "      <td>Municipal Police</td>\n",
       "      <td>Anchorage</td>\n",
       "      <td>Alaska</td>\n",
       "      <td>1980</td>\n",
       "      <td>April</td>\n",
       "      <td>1</td>\n",
       "      <td>Murder or Manslaughter</td>\n",
       "      <td>...</td>\n",
       "      <td>Unknown</td>\n",
       "      <td>Male</td>\n",
       "      <td>42</td>\n",
       "      <td>White</td>\n",
       "      <td>Unknown</td>\n",
       "      <td>Acquaintance</td>\n",
       "      <td>Strangulation</td>\n",
       "      <td>0</td>\n",
       "      <td>0</td>\n",
       "      <td>FBI</td>\n",
       "    </tr>\n",
       "    <tr>\n",
       "      <th>4</th>\n",
       "      <td>5</td>\n",
       "      <td>AK00101</td>\n",
       "      <td>Anchorage</td>\n",
       "      <td>Municipal Police</td>\n",
       "      <td>Anchorage</td>\n",
       "      <td>Alaska</td>\n",
       "      <td>1980</td>\n",
       "      <td>April</td>\n",
       "      <td>2</td>\n",
       "      <td>Murder or Manslaughter</td>\n",
       "      <td>...</td>\n",
       "      <td>Unknown</td>\n",
       "      <td>Unknown</td>\n",
       "      <td>0</td>\n",
       "      <td>Unknown</td>\n",
       "      <td>Unknown</td>\n",
       "      <td>Unknown</td>\n",
       "      <td>Unknown</td>\n",
       "      <td>0</td>\n",
       "      <td>1</td>\n",
       "      <td>FBI</td>\n",
       "    </tr>\n",
       "  </tbody>\n",
       "</table>\n",
       "<p>5 rows × 24 columns</p>\n",
       "</div>"
      ],
      "text/plain": [
       "   Record ID Agency Code Agency Name       Agency Type       City   State  \\\n",
       "0          1     AK00101   Anchorage  Municipal Police  Anchorage  Alaska   \n",
       "1          2     AK00101   Anchorage  Municipal Police  Anchorage  Alaska   \n",
       "2          3     AK00101   Anchorage  Municipal Police  Anchorage  Alaska   \n",
       "3          4     AK00101   Anchorage  Municipal Police  Anchorage  Alaska   \n",
       "4          5     AK00101   Anchorage  Municipal Police  Anchorage  Alaska   \n",
       "\n",
       "   Year    Month  Incident              Crime Type  ... Victim Ethnicity  \\\n",
       "0  1980  January         1  Murder or Manslaughter  ...          Unknown   \n",
       "1  1980    March         1  Murder or Manslaughter  ...          Unknown   \n",
       "2  1980    March         2  Murder or Manslaughter  ...          Unknown   \n",
       "3  1980    April         1  Murder or Manslaughter  ...          Unknown   \n",
       "4  1980    April         2  Murder or Manslaughter  ...          Unknown   \n",
       "\n",
       "  Perpetrator Sex  Perpetrator Age               Perpetrator Race  \\\n",
       "0            Male               15  Native American/Alaska Native   \n",
       "1            Male               42                          White   \n",
       "2         Unknown                0                        Unknown   \n",
       "3            Male               42                          White   \n",
       "4         Unknown                0                        Unknown   \n",
       "\n",
       "  Perpetrator Ethnicity  Relationship         Weapon Victim Count  \\\n",
       "0               Unknown  Acquaintance   Blunt Object            0   \n",
       "1               Unknown  Acquaintance  Strangulation            0   \n",
       "2               Unknown       Unknown        Unknown            0   \n",
       "3               Unknown  Acquaintance  Strangulation            0   \n",
       "4               Unknown       Unknown        Unknown            0   \n",
       "\n",
       "  Perpetrator Count Record Source  \n",
       "0                 0           FBI  \n",
       "1                 0           FBI  \n",
       "2                 0           FBI  \n",
       "3                 0           FBI  \n",
       "4                 1           FBI  \n",
       "\n",
       "[5 rows x 24 columns]"
      ]
     },
     "execution_count": 34,
     "metadata": {},
     "output_type": "execute_result"
    }
   ],
   "source": [
    "ds = pd.read_csv('database.csv', low_memory=False)   # reading csv file using pandas\n",
    "ds.head()   # viewing the dataset"
   ]
  },
  {
   "cell_type": "markdown",
   "metadata": {},
   "source": [
    "# c) Clean the dataset "
   ]
  },
  {
   "cell_type": "code",
   "execution_count": 35,
   "metadata": {},
   "outputs": [
    {
     "data": {
      "text/plain": [
       "Record ID                0\n",
       "Agency Code              0\n",
       "Agency Name              0\n",
       "Agency Type              0\n",
       "City                     0\n",
       "State                    0\n",
       "Year                     0\n",
       "Month                    0\n",
       "Incident                 0\n",
       "Crime Type               0\n",
       "Crime Solved             0\n",
       "Victim Sex               0\n",
       "Victim Age               0\n",
       "Victim Race              0\n",
       "Victim Ethnicity         0\n",
       "Perpetrator Sex          0\n",
       "Perpetrator Age          0\n",
       "Perpetrator Race         0\n",
       "Perpetrator Ethnicity    0\n",
       "Relationship             0\n",
       "Weapon                   0\n",
       "Victim Count             0\n",
       "Perpetrator Count        0\n",
       "Record Source            0\n",
       "dtype: int64"
      ]
     },
     "execution_count": 35,
     "metadata": {},
     "output_type": "execute_result"
    }
   ],
   "source": [
    "# Checking of null data\n",
    "ds.isnull().sum() "
   ]
  },
  {
   "cell_type": "code",
   "execution_count": 36,
   "metadata": {},
   "outputs": [
    {
     "data": {
      "text/html": [
       "<div>\n",
       "<style scoped>\n",
       "    .dataframe tbody tr th:only-of-type {\n",
       "        vertical-align: middle;\n",
       "    }\n",
       "\n",
       "    .dataframe tbody tr th {\n",
       "        vertical-align: top;\n",
       "    }\n",
       "\n",
       "    .dataframe thead th {\n",
       "        text-align: right;\n",
       "    }\n",
       "</style>\n",
       "<table border=\"1\" class=\"dataframe\">\n",
       "  <thead>\n",
       "    <tr style=\"text-align: right;\">\n",
       "      <th></th>\n",
       "      <th>Record ID</th>\n",
       "      <th>Agency Code</th>\n",
       "      <th>Agency Name</th>\n",
       "      <th>Agency Type</th>\n",
       "      <th>City</th>\n",
       "      <th>State</th>\n",
       "      <th>Year</th>\n",
       "      <th>Month</th>\n",
       "      <th>Incident</th>\n",
       "      <th>Crime Type</th>\n",
       "      <th>...</th>\n",
       "      <th>Victim Ethnicity</th>\n",
       "      <th>Perpetrator Sex</th>\n",
       "      <th>Perpetrator Age</th>\n",
       "      <th>Perpetrator Race</th>\n",
       "      <th>Perpetrator Ethnicity</th>\n",
       "      <th>Relationship</th>\n",
       "      <th>Weapon</th>\n",
       "      <th>Victim Count</th>\n",
       "      <th>Perpetrator Count</th>\n",
       "      <th>Record Source</th>\n",
       "    </tr>\n",
       "  </thead>\n",
       "  <tbody>\n",
       "    <tr>\n",
       "      <th>0</th>\n",
       "      <td>1</td>\n",
       "      <td>AK00101</td>\n",
       "      <td>Anchorage</td>\n",
       "      <td>Municipal Police</td>\n",
       "      <td>Anchorage</td>\n",
       "      <td>Alaska</td>\n",
       "      <td>1980</td>\n",
       "      <td>January</td>\n",
       "      <td>1</td>\n",
       "      <td>Murder or Manslaughter</td>\n",
       "      <td>...</td>\n",
       "      <td>Unknown</td>\n",
       "      <td>Male</td>\n",
       "      <td>15</td>\n",
       "      <td>Native American/Alaska Native</td>\n",
       "      <td>Unknown</td>\n",
       "      <td>Acquaintance</td>\n",
       "      <td>Blunt Object</td>\n",
       "      <td>0</td>\n",
       "      <td>0</td>\n",
       "      <td>FBI</td>\n",
       "    </tr>\n",
       "    <tr>\n",
       "      <th>1</th>\n",
       "      <td>2</td>\n",
       "      <td>AK00101</td>\n",
       "      <td>Anchorage</td>\n",
       "      <td>Municipal Police</td>\n",
       "      <td>Anchorage</td>\n",
       "      <td>Alaska</td>\n",
       "      <td>1980</td>\n",
       "      <td>March</td>\n",
       "      <td>1</td>\n",
       "      <td>Murder or Manslaughter</td>\n",
       "      <td>...</td>\n",
       "      <td>Unknown</td>\n",
       "      <td>Male</td>\n",
       "      <td>42</td>\n",
       "      <td>White</td>\n",
       "      <td>Unknown</td>\n",
       "      <td>Acquaintance</td>\n",
       "      <td>Strangulation</td>\n",
       "      <td>0</td>\n",
       "      <td>0</td>\n",
       "      <td>FBI</td>\n",
       "    </tr>\n",
       "    <tr>\n",
       "      <th>2</th>\n",
       "      <td>3</td>\n",
       "      <td>AK00101</td>\n",
       "      <td>Anchorage</td>\n",
       "      <td>Municipal Police</td>\n",
       "      <td>Anchorage</td>\n",
       "      <td>Alaska</td>\n",
       "      <td>1980</td>\n",
       "      <td>March</td>\n",
       "      <td>2</td>\n",
       "      <td>Murder or Manslaughter</td>\n",
       "      <td>...</td>\n",
       "      <td>Unknown</td>\n",
       "      <td>Unknown</td>\n",
       "      <td>0</td>\n",
       "      <td>Unknown</td>\n",
       "      <td>Unknown</td>\n",
       "      <td>Unknown</td>\n",
       "      <td>Unknown</td>\n",
       "      <td>0</td>\n",
       "      <td>0</td>\n",
       "      <td>FBI</td>\n",
       "    </tr>\n",
       "    <tr>\n",
       "      <th>3</th>\n",
       "      <td>4</td>\n",
       "      <td>AK00101</td>\n",
       "      <td>Anchorage</td>\n",
       "      <td>Municipal Police</td>\n",
       "      <td>Anchorage</td>\n",
       "      <td>Alaska</td>\n",
       "      <td>1980</td>\n",
       "      <td>April</td>\n",
       "      <td>1</td>\n",
       "      <td>Murder or Manslaughter</td>\n",
       "      <td>...</td>\n",
       "      <td>Unknown</td>\n",
       "      <td>Male</td>\n",
       "      <td>42</td>\n",
       "      <td>White</td>\n",
       "      <td>Unknown</td>\n",
       "      <td>Acquaintance</td>\n",
       "      <td>Strangulation</td>\n",
       "      <td>0</td>\n",
       "      <td>0</td>\n",
       "      <td>FBI</td>\n",
       "    </tr>\n",
       "    <tr>\n",
       "      <th>4</th>\n",
       "      <td>5</td>\n",
       "      <td>AK00101</td>\n",
       "      <td>Anchorage</td>\n",
       "      <td>Municipal Police</td>\n",
       "      <td>Anchorage</td>\n",
       "      <td>Alaska</td>\n",
       "      <td>1980</td>\n",
       "      <td>April</td>\n",
       "      <td>2</td>\n",
       "      <td>Murder or Manslaughter</td>\n",
       "      <td>...</td>\n",
       "      <td>Unknown</td>\n",
       "      <td>Unknown</td>\n",
       "      <td>0</td>\n",
       "      <td>Unknown</td>\n",
       "      <td>Unknown</td>\n",
       "      <td>Unknown</td>\n",
       "      <td>Unknown</td>\n",
       "      <td>0</td>\n",
       "      <td>1</td>\n",
       "      <td>FBI</td>\n",
       "    </tr>\n",
       "    <tr>\n",
       "      <th>...</th>\n",
       "      <td>...</td>\n",
       "      <td>...</td>\n",
       "      <td>...</td>\n",
       "      <td>...</td>\n",
       "      <td>...</td>\n",
       "      <td>...</td>\n",
       "      <td>...</td>\n",
       "      <td>...</td>\n",
       "      <td>...</td>\n",
       "      <td>...</td>\n",
       "      <td>...</td>\n",
       "      <td>...</td>\n",
       "      <td>...</td>\n",
       "      <td>...</td>\n",
       "      <td>...</td>\n",
       "      <td>...</td>\n",
       "      <td>...</td>\n",
       "      <td>...</td>\n",
       "      <td>...</td>\n",
       "      <td>...</td>\n",
       "      <td>...</td>\n",
       "    </tr>\n",
       "    <tr>\n",
       "      <th>638449</th>\n",
       "      <td>638450</td>\n",
       "      <td>WY01500</td>\n",
       "      <td>Park County</td>\n",
       "      <td>Sheriff</td>\n",
       "      <td>Park</td>\n",
       "      <td>Wyoming</td>\n",
       "      <td>2014</td>\n",
       "      <td>January</td>\n",
       "      <td>1</td>\n",
       "      <td>Murder or Manslaughter</td>\n",
       "      <td>...</td>\n",
       "      <td>Hispanic</td>\n",
       "      <td>Unknown</td>\n",
       "      <td>0</td>\n",
       "      <td>Unknown</td>\n",
       "      <td>Unknown</td>\n",
       "      <td>Unknown</td>\n",
       "      <td>Handgun</td>\n",
       "      <td>0</td>\n",
       "      <td>0</td>\n",
       "      <td>FBI</td>\n",
       "    </tr>\n",
       "    <tr>\n",
       "      <th>638450</th>\n",
       "      <td>638451</td>\n",
       "      <td>WY01700</td>\n",
       "      <td>Sheridan County</td>\n",
       "      <td>Sheriff</td>\n",
       "      <td>Sheridan</td>\n",
       "      <td>Wyoming</td>\n",
       "      <td>2014</td>\n",
       "      <td>June</td>\n",
       "      <td>1</td>\n",
       "      <td>Murder or Manslaughter</td>\n",
       "      <td>...</td>\n",
       "      <td>Unknown</td>\n",
       "      <td>Male</td>\n",
       "      <td>57</td>\n",
       "      <td>White</td>\n",
       "      <td>Unknown</td>\n",
       "      <td>Acquaintance</td>\n",
       "      <td>Handgun</td>\n",
       "      <td>0</td>\n",
       "      <td>0</td>\n",
       "      <td>FBI</td>\n",
       "    </tr>\n",
       "    <tr>\n",
       "      <th>638451</th>\n",
       "      <td>638452</td>\n",
       "      <td>WY01701</td>\n",
       "      <td>Sheridan</td>\n",
       "      <td>Municipal Police</td>\n",
       "      <td>Sheridan</td>\n",
       "      <td>Wyoming</td>\n",
       "      <td>2014</td>\n",
       "      <td>September</td>\n",
       "      <td>1</td>\n",
       "      <td>Murder or Manslaughter</td>\n",
       "      <td>...</td>\n",
       "      <td>Unknown</td>\n",
       "      <td>Female</td>\n",
       "      <td>22</td>\n",
       "      <td>Asian/Pacific Islander</td>\n",
       "      <td>Unknown</td>\n",
       "      <td>Daughter</td>\n",
       "      <td>Suffocation</td>\n",
       "      <td>0</td>\n",
       "      <td>0</td>\n",
       "      <td>FBI</td>\n",
       "    </tr>\n",
       "    <tr>\n",
       "      <th>638452</th>\n",
       "      <td>638453</td>\n",
       "      <td>WY01800</td>\n",
       "      <td>Sublette County</td>\n",
       "      <td>Sheriff</td>\n",
       "      <td>Sublette</td>\n",
       "      <td>Wyoming</td>\n",
       "      <td>2014</td>\n",
       "      <td>December</td>\n",
       "      <td>1</td>\n",
       "      <td>Murder or Manslaughter</td>\n",
       "      <td>...</td>\n",
       "      <td>Not Hispanic</td>\n",
       "      <td>Male</td>\n",
       "      <td>31</td>\n",
       "      <td>White</td>\n",
       "      <td>Not Hispanic</td>\n",
       "      <td>Stranger</td>\n",
       "      <td>Knife</td>\n",
       "      <td>0</td>\n",
       "      <td>1</td>\n",
       "      <td>FBI</td>\n",
       "    </tr>\n",
       "    <tr>\n",
       "      <th>638453</th>\n",
       "      <td>638454</td>\n",
       "      <td>WY01902</td>\n",
       "      <td>Rock Springs</td>\n",
       "      <td>Municipal Police</td>\n",
       "      <td>Sweetwater</td>\n",
       "      <td>Wyoming</td>\n",
       "      <td>2014</td>\n",
       "      <td>September</td>\n",
       "      <td>1</td>\n",
       "      <td>Murder or Manslaughter</td>\n",
       "      <td>...</td>\n",
       "      <td>Not Hispanic</td>\n",
       "      <td>Female</td>\n",
       "      <td>24</td>\n",
       "      <td>White</td>\n",
       "      <td>Not Hispanic</td>\n",
       "      <td>Daughter</td>\n",
       "      <td>Blunt Object</td>\n",
       "      <td>0</td>\n",
       "      <td>1</td>\n",
       "      <td>FBI</td>\n",
       "    </tr>\n",
       "  </tbody>\n",
       "</table>\n",
       "<p>638454 rows × 24 columns</p>\n",
       "</div>"
      ],
      "text/plain": [
       "        Record ID Agency Code      Agency Name       Agency Type        City  \\\n",
       "0               1     AK00101        Anchorage  Municipal Police   Anchorage   \n",
       "1               2     AK00101        Anchorage  Municipal Police   Anchorage   \n",
       "2               3     AK00101        Anchorage  Municipal Police   Anchorage   \n",
       "3               4     AK00101        Anchorage  Municipal Police   Anchorage   \n",
       "4               5     AK00101        Anchorage  Municipal Police   Anchorage   \n",
       "...           ...         ...              ...               ...         ...   \n",
       "638449     638450     WY01500      Park County           Sheriff        Park   \n",
       "638450     638451     WY01700  Sheridan County           Sheriff    Sheridan   \n",
       "638451     638452     WY01701         Sheridan  Municipal Police    Sheridan   \n",
       "638452     638453     WY01800  Sublette County           Sheriff    Sublette   \n",
       "638453     638454     WY01902     Rock Springs  Municipal Police  Sweetwater   \n",
       "\n",
       "          State  Year      Month  Incident              Crime Type  ...  \\\n",
       "0        Alaska  1980    January         1  Murder or Manslaughter  ...   \n",
       "1        Alaska  1980      March         1  Murder or Manslaughter  ...   \n",
       "2        Alaska  1980      March         2  Murder or Manslaughter  ...   \n",
       "3        Alaska  1980      April         1  Murder or Manslaughter  ...   \n",
       "4        Alaska  1980      April         2  Murder or Manslaughter  ...   \n",
       "...         ...   ...        ...       ...                     ...  ...   \n",
       "638449  Wyoming  2014    January         1  Murder or Manslaughter  ...   \n",
       "638450  Wyoming  2014       June         1  Murder or Manslaughter  ...   \n",
       "638451  Wyoming  2014  September         1  Murder or Manslaughter  ...   \n",
       "638452  Wyoming  2014   December         1  Murder or Manslaughter  ...   \n",
       "638453  Wyoming  2014  September         1  Murder or Manslaughter  ...   \n",
       "\n",
       "       Victim Ethnicity Perpetrator Sex  Perpetrator Age  \\\n",
       "0               Unknown            Male               15   \n",
       "1               Unknown            Male               42   \n",
       "2               Unknown         Unknown                0   \n",
       "3               Unknown            Male               42   \n",
       "4               Unknown         Unknown                0   \n",
       "...                 ...             ...              ...   \n",
       "638449         Hispanic         Unknown                0   \n",
       "638450          Unknown            Male               57   \n",
       "638451          Unknown          Female               22   \n",
       "638452     Not Hispanic            Male               31   \n",
       "638453     Not Hispanic          Female               24   \n",
       "\n",
       "                     Perpetrator Race Perpetrator Ethnicity  Relationship  \\\n",
       "0       Native American/Alaska Native               Unknown  Acquaintance   \n",
       "1                               White               Unknown  Acquaintance   \n",
       "2                             Unknown               Unknown       Unknown   \n",
       "3                               White               Unknown  Acquaintance   \n",
       "4                             Unknown               Unknown       Unknown   \n",
       "...                               ...                   ...           ...   \n",
       "638449                        Unknown               Unknown       Unknown   \n",
       "638450                          White               Unknown  Acquaintance   \n",
       "638451         Asian/Pacific Islander               Unknown      Daughter   \n",
       "638452                          White          Not Hispanic      Stranger   \n",
       "638453                          White          Not Hispanic      Daughter   \n",
       "\n",
       "               Weapon Victim Count Perpetrator Count Record Source  \n",
       "0        Blunt Object            0                 0           FBI  \n",
       "1       Strangulation            0                 0           FBI  \n",
       "2             Unknown            0                 0           FBI  \n",
       "3       Strangulation            0                 0           FBI  \n",
       "4             Unknown            0                 1           FBI  \n",
       "...               ...          ...               ...           ...  \n",
       "638449        Handgun            0                 0           FBI  \n",
       "638450        Handgun            0                 0           FBI  \n",
       "638451    Suffocation            0                 0           FBI  \n",
       "638452          Knife            0                 1           FBI  \n",
       "638453   Blunt Object            0                 1           FBI  \n",
       "\n",
       "[638454 rows x 24 columns]"
      ]
     },
     "execution_count": 36,
     "metadata": {},
     "output_type": "execute_result"
    }
   ],
   "source": [
    "# Show the clean dataset\n",
    "ds"
   ]
  },
  {
   "cell_type": "markdown",
   "metadata": {},
   "source": [
    "# d) Encoding categorical data"
   ]
  },
  {
   "cell_type": "code",
   "execution_count": 2,
   "metadata": {},
   "outputs": [],
   "source": [
    "from sklearn.compose import ColumnTransformer"
   ]
  },
  {
   "cell_type": "code",
   "execution_count": 3,
   "metadata": {},
   "outputs": [
    {
     "ename": "NameError",
     "evalue": "name 'OneHotEncoder' is not defined",
     "output_type": "error",
     "traceback": [
      "\u001b[0;31m---------------------------------------------------------------------------\u001b[0m",
      "\u001b[0;31mNameError\u001b[0m                                 Traceback (most recent call last)",
      "\u001b[0;32m<ipython-input-3-ad5821dc9cc9>\u001b[0m in \u001b[0;36m<module>\u001b[0;34m\u001b[0m\n\u001b[0;32m----> 1\u001b[0;31m \u001b[0mct\u001b[0m \u001b[0;34m=\u001b[0m \u001b[0mColumnTransformer\u001b[0m\u001b[0;34m(\u001b[0m\u001b[0mtransformers\u001b[0m\u001b[0;34m=\u001b[0m\u001b[0;34m[\u001b[0m\u001b[0;34m(\u001b[0m\u001b[0;34m'encoder'\u001b[0m\u001b[0;34m,\u001b[0m \u001b[0mOneHotEncoder\u001b[0m\u001b[0;34m(\u001b[0m\u001b[0;34m)\u001b[0m\u001b[0;34m,\u001b[0m \u001b[0;34m[\u001b[0m\u001b[0;36m0\u001b[0m\u001b[0;34m]\u001b[0m\u001b[0;34m)\u001b[0m\u001b[0;34m]\u001b[0m\u001b[0;34m,\u001b[0m \u001b[0mremainder\u001b[0m\u001b[0;34m=\u001b[0m\u001b[0;34m'passthrough'\u001b[0m\u001b[0;34m)\u001b[0m\u001b[0;34m\u001b[0m\u001b[0;34m\u001b[0m\u001b[0m\n\u001b[0m",
      "\u001b[0;31mNameError\u001b[0m: name 'OneHotEncoder' is not defined"
     ]
    }
   ],
   "source": [
    "ct = ColumnTransformer(transformers=[('encoder', OneHotEncoder(), [0])], remainder='passthrough')"
   ]
  },
  {
   "cell_type": "code",
   "execution_count": 37,
   "metadata": {},
   "outputs": [
    {
     "data": {
      "text/html": [
       "<div>\n",
       "<style scoped>\n",
       "    .dataframe tbody tr th:only-of-type {\n",
       "        vertical-align: middle;\n",
       "    }\n",
       "\n",
       "    .dataframe tbody tr th {\n",
       "        vertical-align: top;\n",
       "    }\n",
       "\n",
       "    .dataframe thead th {\n",
       "        text-align: right;\n",
       "    }\n",
       "</style>\n",
       "<table border=\"1\" class=\"dataframe\">\n",
       "  <thead>\n",
       "    <tr style=\"text-align: right;\">\n",
       "      <th></th>\n",
       "      <th>City</th>\n",
       "      <th>Weapon</th>\n",
       "      <th>Victim Age</th>\n",
       "    </tr>\n",
       "  </thead>\n",
       "  <tbody>\n",
       "    <tr>\n",
       "      <th>0</th>\n",
       "      <td>Anchorage</td>\n",
       "      <td>Blunt Object</td>\n",
       "      <td>14</td>\n",
       "    </tr>\n",
       "    <tr>\n",
       "      <th>1</th>\n",
       "      <td>Anchorage</td>\n",
       "      <td>Strangulation</td>\n",
       "      <td>43</td>\n",
       "    </tr>\n",
       "    <tr>\n",
       "      <th>2</th>\n",
       "      <td>Anchorage</td>\n",
       "      <td>Unknown</td>\n",
       "      <td>30</td>\n",
       "    </tr>\n",
       "    <tr>\n",
       "      <th>3</th>\n",
       "      <td>Anchorage</td>\n",
       "      <td>Strangulation</td>\n",
       "      <td>43</td>\n",
       "    </tr>\n",
       "    <tr>\n",
       "      <th>4</th>\n",
       "      <td>Anchorage</td>\n",
       "      <td>Unknown</td>\n",
       "      <td>30</td>\n",
       "    </tr>\n",
       "  </tbody>\n",
       "</table>\n",
       "</div>"
      ],
      "text/plain": [
       "        City         Weapon  Victim Age\n",
       "0  Anchorage   Blunt Object          14\n",
       "1  Anchorage  Strangulation          43\n",
       "2  Anchorage        Unknown          30\n",
       "3  Anchorage  Strangulation          43\n",
       "4  Anchorage        Unknown          30"
      ]
     },
     "execution_count": 37,
     "metadata": {},
     "output_type": "execute_result"
    }
   ],
   "source": [
    "ds.loc[:, ('City', 'Weapon', 'Victim Age')].head()"
   ]
  },
  {
   "cell_type": "code",
   "execution_count": 38,
   "metadata": {},
   "outputs": [
    {
     "data": {
      "text/plain": [
       "array(['Anchorage', 'Juneau', 'Nome', ..., 'Rooks', 'McCone', 'Antelope'],\n",
       "      dtype=object)"
      ]
     },
     "execution_count": 38,
     "metadata": {},
     "output_type": "execute_result"
    }
   ],
   "source": [
    "ds['City'].unique()"
   ]
  },
  {
   "cell_type": "code",
   "execution_count": 39,
   "metadata": {},
   "outputs": [
    {
     "data": {
      "text/plain": [
       "array(['Blunt Object', 'Strangulation', 'Unknown', 'Rifle', 'Knife',\n",
       "       'Firearm', 'Shotgun', 'Fall', 'Handgun', 'Drowning', 'Suffocation',\n",
       "       'Explosives', 'Fire', 'Drugs', 'Gun', 'Poison'], dtype=object)"
      ]
     },
     "execution_count": 39,
     "metadata": {},
     "output_type": "execute_result"
    }
   ],
   "source": [
    "ds['Weapon'].unique()"
   ]
  },
  {
   "cell_type": "code",
   "execution_count": 40,
   "metadata": {},
   "outputs": [
    {
     "data": {
      "text/plain": [
       "array([ 14,  43,  30,  42,  99,  32,  38,  36,  20,  48,  31,  16,  33,\n",
       "        27,  21,  60,  40,  18,   8,  25,  24,  46,  23,  22,  45,  26,\n",
       "        58,  17,  29,  41,  68,  13,  35,  44,  54,  37,  51,  90,  50,\n",
       "        52,  61,  63,  19,  28,  70,  72,  74,  53,  57,  76,  79,  69,\n",
       "        34,  66,  55,  67,  65,  47,   1,  49,  62,  75,  56,  59,  78,\n",
       "        39,  15,   0,  71,  77,   2,   4,  64,  82,  85,   6,   5,   7,\n",
       "         9,  84,  10,  86,  11,  73,  83, 998,  81,  87,  80,   3,  12,\n",
       "        94,  93,  92,  89,  97,  88,  91,  95,  98,  96])"
      ]
     },
     "execution_count": 40,
     "metadata": {},
     "output_type": "execute_result"
    }
   ],
   "source": [
    "ds['Victim Age'].unique()"
   ]
  },
  {
   "cell_type": "markdown",
   "metadata": {},
   "source": [
    "# e) Splitting the dataset into the Training set and Test set"
   ]
  },
  {
   "cell_type": "code",
   "execution_count": 41,
   "metadata": {
    "scrolled": true
   },
   "outputs": [],
   "source": [
    "from sklearn.model_selection import train_test_split"
   ]
  },
  {
   "cell_type": "code",
   "execution_count": 42,
   "metadata": {},
   "outputs": [],
   "source": [
    "x = ds[['Victim Count']]\n",
    "y = ds[['Incident']]"
   ]
  },
  {
   "cell_type": "code",
   "execution_count": 43,
   "metadata": {},
   "outputs": [],
   "source": [
    "X_train, X_test, y_train, y_test = train_test_split(x, y)"
   ]
  },
  {
   "cell_type": "code",
   "execution_count": 44,
   "metadata": {},
   "outputs": [
    {
     "data": {
      "text/plain": [
       "(478840, 1)"
      ]
     },
     "execution_count": 44,
     "metadata": {},
     "output_type": "execute_result"
    }
   ],
   "source": [
    "X_train.shape"
   ]
  },
  {
   "cell_type": "code",
   "execution_count": 45,
   "metadata": {},
   "outputs": [
    {
     "data": {
      "text/plain": [
       "(159614, 1)"
      ]
     },
     "execution_count": 45,
     "metadata": {},
     "output_type": "execute_result"
    }
   ],
   "source": [
    "X_test.shape"
   ]
  },
  {
   "cell_type": "code",
   "execution_count": 46,
   "metadata": {},
   "outputs": [
    {
     "data": {
      "text/plain": [
       "(478840, 1)"
      ]
     },
     "execution_count": 46,
     "metadata": {},
     "output_type": "execute_result"
    }
   ],
   "source": [
    "y_train.shape"
   ]
  },
  {
   "cell_type": "code",
   "execution_count": 47,
   "metadata": {},
   "outputs": [
    {
     "data": {
      "text/plain": [
       "(159614, 1)"
      ]
     },
     "execution_count": 47,
     "metadata": {},
     "output_type": "execute_result"
    }
   ],
   "source": [
    "y_test.shape"
   ]
  },
  {
   "cell_type": "markdown",
   "metadata": {},
   "source": [
    "# f)Train the Regression model on the Training set"
   ]
  },
  {
   "cell_type": "code",
   "execution_count": 48,
   "metadata": {},
   "outputs": [],
   "source": [
    "from sklearn.linear_model import LinearRegression"
   ]
  },
  {
   "cell_type": "code",
   "execution_count": 49,
   "metadata": {},
   "outputs": [],
   "source": [
    "reg = LinearRegression()"
   ]
  },
  {
   "cell_type": "code",
   "execution_count": 50,
   "metadata": {},
   "outputs": [
    {
     "data": {
      "text/plain": [
       "LinearRegression()"
      ]
     },
     "execution_count": 50,
     "metadata": {},
     "output_type": "execute_result"
    }
   ],
   "source": [
    "reg.fit(X_train, y_train)"
   ]
  },
  {
   "cell_type": "markdown",
   "metadata": {},
   "source": [
    "# g) Predicting the Test set results"
   ]
  },
  {
   "cell_type": "code",
   "execution_count": 51,
   "metadata": {},
   "outputs": [
    {
     "name": "stdout",
     "output_type": "stream",
     "text": [
      "[[22.88754709]\n",
      " [22.88754709]\n",
      " [22.88754709]\n",
      " ...\n",
      " [22.88754709]\n",
      " [22.88754709]\n",
      " [22.88754709]]\n"
     ]
    }
   ],
   "source": [
    "y_pr = reg.predict(X_test)\n",
    "print(y_pr)"
   ]
  },
  {
   "cell_type": "markdown",
   "metadata": {},
   "source": [
    "# h) Visualising the Training set results"
   ]
  },
  {
   "cell_type": "code",
   "execution_count": 53,
   "metadata": {},
   "outputs": [
    {
     "data": {
      "image/png": "[encoded data removed]",
      "text/plain": [
       "<Figure size 432x288 with 1 Axes>"
      ]
     },
     "metadata": {
      "needs_background": "light"
     },
     "output_type": "display_data"
    }
   ],
   "source": [
    "plt.scatter(X_train, y_train, color='black') \n",
    "plt.plot(X_train, reg.predict(X_train), color='green' )\n",
    "plt.title('Traininig set: Victim count vs Incident')\n",
    "plt.xlabel('Victim count')\n",
    "plt.ylabel('Incident')\n",
    "plt.show()"
   ]
  },
  {
   "cell_type": "markdown",
   "metadata": {},
   "source": [
    "# i) Visualising the Test set results "
   ]
  },
  {
   "cell_type": "code",
   "execution_count": 54,
   "metadata": {
    "scrolled": true
   },
   "outputs": [
    {
     "data": {
      "image/png": "[encoded data removed]",
      "text/plain": [
       "<Figure size 432x288 with 1 Axes>"
      ]
     },
     "metadata": {
      "needs_background": "light"
     },
     "output_type": "display_data"
    }
   ],
   "source": [
    "plt.scatter(X_test, y_test) \n",
    "plt.plot(X_train, reg.predict(X_train)) \n",
    "plt.xlabel('Victim count')\n",
    "plt.ylabel('Incident')\n",
    "plt.show()"
   ]
  },
  {
   "cell_type": "markdown",
   "metadata": {},
   "source": [
    "# j) R2 to determine the correlation between the dependent and independent variables"
   ]
  },
  {
   "cell_type": "code",
   "execution_count": 55,
   "metadata": {},
   "outputs": [
    {
     "name": "stdout",
     "output_type": "stream",
     "text": [
      "Coefficient of determination (R^2): -3.94669526393443e-06\n"
     ]
    }
   ],
   "source": [
    "print('Coefficient of determination (R^2):', r2_score(y_test, y_pr))"
   ]
  },
  {
   "cell_type": "markdown",
   "metadata": {},
   "source": [
    "# K) Make future predictions from your dataset "
   ]
  },
  {
   "cell_type": "code",
   "execution_count": 62,
   "metadata": {},
   "outputs": [],
   "source": [
    "from sklearn.metrics import r2_score"
   ]
  },
  {
   "cell_type": "code",
   "execution_count": 63,
   "metadata": {},
   "outputs": [
    {
     "data": {
      "text/plain": [
       "-30555.667443777755"
      ]
     },
     "execution_count": 63,
     "metadata": {},
     "output_type": "execute_result"
    }
   ],
   "source": [
    "r2_score(X_test, y_test)"
   ]
  },
  {
   "cell_type": "code",
   "execution_count": null,
   "metadata": {},
   "outputs": [],
   "source": []
  }
 ],
 "metadata": {
  "kernelspec": {
   "display_name": "Python 3",
   "language": "python",
   "name": "python3"
  },
  "language_info": {
   "codemirror_mode": {
    "name": "ipython",
    "version": 3
   },
   "file_extension": ".py",
   "mimetype": "text/x-python",
   "name": "python",
   "nbconvert_exporter": "python",
   "pygments_lexer": "ipython3",
   "version": "3.8.8"
  }
 },
 "nbformat": 4,
 "nbformat_minor": 4
}
